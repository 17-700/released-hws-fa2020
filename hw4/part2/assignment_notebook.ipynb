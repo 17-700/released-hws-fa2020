{
 "cells": [
  {
   "cell_type": "markdown",
   "metadata": {},
   "source": [
    "# CMU 17-400/17-700 auto-graded notebook\n",
    "\n",
    "Before you turn this assignment in, make sure everything runs as expected. First, **restart the kernel** (in the menubar, select Kernel$\\rightarrow$Restart) and then **run all cells** (in the menubar, select Cell$\\rightarrow$Run All).\n",
    "\n",
    "Make sure you fill in any place that says `YOUR CODE HERE` or \"YOUR ANSWER HERE.\""
   ]
  },
  {
   "cell_type": "markdown",
   "metadata": {},
   "source": [
    "---"
   ]
  },
  {
   "cell_type": "markdown",
   "metadata": {},
   "source": [
    "# Homework 4: Style Transfer\n"
   ]
  },
  {
   "cell_type": "code",
   "execution_count": null,
   "metadata": {
    "deletable": false,
    "nbgrader": {
     "cell_type": "code",
     "checksum": "fe60cd9540617cc2e184126ec775bb7a",
     "grade": false,
     "grade_id": "collaborators",
     "locked": false,
     "schema_version": 3,
     "solution": true,
     "task": false
    }
   },
   "outputs": [],
   "source": [
    "# Who did you collaborate with on this assignment? \n",
    "# if no one, collaborators should contain an empty string,\n",
    "# else list your collaborators below\n",
    "\n",
    "# collaborators = [\"\"]\n",
    "# YOUR CODE HERE\n",
    "raise NotImplementedError()"
   ]
  },
  {
   "cell_type": "code",
   "execution_count": null,
   "metadata": {
    "deletable": false,
    "editable": false,
    "nbgrader": {
     "cell_type": "code",
     "checksum": "8dccedd0e8702e7a99d0ea08f2fa7921",
     "grade": true,
     "grade_id": "test_collaborators",
     "locked": true,
     "points": 0,
     "schema_version": 3,
     "solution": false,
     "task": false
    }
   },
   "outputs": [],
   "source": [
    "try:\n",
    "    collaborators\n",
    "except:\n",
    "    raise AssertionError(\"you did not list your collaborators, if any\")"
   ]
  },
  {
   "cell_type": "markdown",
   "metadata": {
    "colab_type": "text",
    "id": "aDyGj8DmXCJI"
   },
   "source": [
    "In this assignment, we will implement the style transfer application described in the paper [Leon A. Gatys' paper, A Neural Algorithm of Artistic Style](https://arxiv.org/abs/1508.06576). \n",
    "\n",
    "### Five major steps:\n",
    "1. Visualize the data and expected outputs\n",
    "2. Process the data\n",
    "3. Create the model\n",
    "4. Define the loss function \n",
    "5. Optimize for the loss function and evaluation\n"
   ]
  },
  {
   "cell_type": "markdown",
   "metadata": {
    "colab_type": "text",
    "id": "U8ajP_u73s6m"
   },
   "source": [
    "# Import Packages and Supporting Files\n"
   ]
  },
  {
   "cell_type": "code",
   "execution_count": null,
   "metadata": {
    "colab": {},
    "colab_type": "code",
    "id": "sc1OLbOWhPCO"
   },
   "outputs": [],
   "source": [
    "# Import packages\n",
    "import tensorflow as tf\n",
    "from tensorflow.keras.applications.vgg19 import preprocess_input\n",
    "from tensorflow.keras.models import Model\n",
    "from tensorflow.python.keras.preprocessing import image as k_image\n",
    "import matplotlib.pyplot as plt\n",
    "import numpy as np\n",
    "import time\n",
    "\n",
    "from PIL import Image\n",
    "\n",
    "%matplotlib inline"
   ]
  },
  {
   "cell_type": "code",
   "execution_count": null,
   "metadata": {
    "colab": {},
    "colab_type": "code",
    "id": "RYEjlrYk3s6w"
   },
   "outputs": [],
   "source": [
    "import tensorflow as tf\n",
    "from tensorflow.python.keras.preprocessing import image as kp_image\n",
    "from tensorflow.python.keras import models \n",
    "from tensorflow.python.keras import losses\n",
    "from tensorflow.python.keras import layers\n",
    "from tensorflow.python.keras import backend as K"
   ]
  },
  {
   "cell_type": "code",
   "execution_count": null,
   "metadata": {
    "colab": {},
    "colab_type": "code",
    "id": "ixla0iaIWKVg"
   },
   "outputs": [],
   "source": [
    "#Download the Content Image and Style Image\n",
    "!wget 'https://upload.wikimedia.org/wikipedia/commons/c/cd/VanGogh-starry_night.jpg' -O style.jpg\n",
    "!wget 'https://upload.wikimedia.org/wikipedia/commons/e/e6/T%C3%BCbingen_Neckarfront_August_2013.jpg' -O content.jpg\n",
    "!wget 'https://raw.githubusercontent.com/17-700/data/master/hw4/styleTransfer/my_styled_image.jpg' -O style_output.jpg"
   ]
  },
  {
   "cell_type": "code",
   "execution_count": null,
   "metadata": {
    "colab": {},
    "colab_type": "code",
    "id": "IOiGrIV1iERH"
   },
   "outputs": [],
   "source": [
    "# Set path variables here\n",
    "content_path = 'content.jpg'\n",
    "style_path = 'style.jpg'\n",
    "styled_ref='style_output.jpg'"
   ]
  },
  {
   "cell_type": "markdown",
   "metadata": {
    "colab_type": "text",
    "id": "xE4Yt8nArTeR"
   },
   "source": [
    "# Visualize the Inputs and the Reference Stylized Output"
   ]
  },
  {
   "cell_type": "code",
   "execution_count": null,
   "metadata": {
    "colab": {},
    "colab_type": "code",
    "id": "3TLljcwv5qZs"
   },
   "outputs": [],
   "source": [
    "def resize_img(path_to_img):\n",
    "    max_dim = 512\n",
    "    img = Image.open(path_to_img)\n",
    "    long = max(img.size)\n",
    "    scale = max_dim/long\n",
    "    img = img.resize((round(img.size[0]*scale), round(img.size[1]*scale)), Image.ANTIALIAS)\n",
    "    img = kp_image.img_to_array(img)\n",
    "  \n",
    "    # We need to broadcast the image array such that it has a batch dimension \n",
    "    img = np.expand_dims(img, axis=0)\n",
    "    return img"
   ]
  },
  {
   "cell_type": "code",
   "execution_count": null,
   "metadata": {
    "colab": {},
    "colab_type": "code",
    "id": "vupl0CI18aAG"
   },
   "outputs": [],
   "source": [
    "def imshow(img, title=None):\n",
    "    # Remove the batch dimension\n",
    "    out = np.squeeze(img, axis=0)\n",
    "    # Normalize for display \n",
    "    out = out.astype('uint8')\n",
    "    plt.imshow(out)\n",
    "    if title is not None:\n",
    "        plt.title(title)\n",
    "    plt.imshow(out)"
   ]
  },
  {
   "cell_type": "code",
   "execution_count": null,
   "metadata": {
    "colab": {},
    "colab_type": "code",
    "id": "_UWQmeEaiKkP"
   },
   "outputs": [],
   "source": [
    "plt.figure(figsize=(10,10))\n",
    "content = resize_img(content_path).astype('uint8')\n",
    "style = resize_img(style_path).astype('uint8')\n",
    "ref_output=resize_img(styled_ref).astype('uint8')\n",
    "plt.subplot(1, 2, 1)\n",
    "imshow(content, 'Content Image')\n",
    "plt.subplot(1, 2, 2)\n",
    "imshow(style, 'Style Image')\n",
    "plt.show()\n",
    "imshow(ref_output,'Reference Output after Style Transfer')\n",
    "plt.show()"
   ]
  },
  {
   "cell_type": "markdown",
   "metadata": {
    "colab_type": "text",
    "id": "7qMVNvEsK-_D"
   },
   "source": [
    "# Prepare the Data\n",
    "Let's implement some helper functions that will allow us to load and preprocess our images more easily. We will be using VGG as the backbone model. It is worth noting that VGG is trained on images with each channel normalized by `mean = [103.939, 116.779, 123.68]` and with channels BGR."
   ]
  },
  {
   "cell_type": "code",
   "execution_count": null,
   "metadata": {
    "colab": {},
    "colab_type": "code",
    "deletable": false,
    "id": "hGwmTwJNmv2a",
    "nbgrader": {
     "cell_type": "code",
     "checksum": "206a2c4e8c9afc8dbdd0762528b561fc",
     "grade": false,
     "grade_id": "load_and_process_img",
     "locked": false,
     "schema_version": 3,
     "solution": true,
     "task": false
    }
   },
   "outputs": [],
   "source": [
    "def load_and_process_img(path_to_img):\n",
    "    \"\"\"\n",
    "    Load the image using the resize_img function and \n",
    "    use keras.applications.vgg19.preprocess_input to change the image from RGB to BGR format\n",
    "    Return: precessed_img\n",
    "    \"\"\"\n",
    "    \n",
    "    # # TODO: Uncomment the lines below and replace <FILL IN> with appropriate code\n",
    "    # img = <FILL IN>\n",
    "    # # Preprocess them with respect to VGG19 stats\n",
    "    # img = tf.keras.applications.vgg19.preprocess_input(img)\n",
    "    \n",
    "    # YOUR CODE HERE\n",
    "    raise NotImplementedError()\n",
    "    \n",
    "    return img\n",
    "    "
   ]
  },
  {
   "cell_type": "code",
   "execution_count": null,
   "metadata": {
    "colab": {},
    "colab_type": "code",
    "deletable": false,
    "editable": false,
    "id": "57mIN1d2VoZV",
    "nbgrader": {
     "cell_type": "code",
     "checksum": "7c8d1d2028c1570ba3d3c3d58ae8556e",
     "grade": true,
     "grade_id": "test_load_and_process_img",
     "locked": true,
     "points": 2,
     "schema_version": 3,
     "solution": false,
     "task": false
    }
   },
   "outputs": [],
   "source": [
    "# Test load_and_process_img\n",
    "assert -10> np.mean(load_and_process_img(content_path))> -20"
   ]
  },
  {
   "cell_type": "markdown",
   "metadata": {
    "colab_type": "text",
    "id": "xCgooqs6tAka"
   },
   "source": [
    "In order to visualize the output image of our model, we need to perform the inverse preprocessing step. Furthermore, since our output image may take its values anywhere between $- \\infty$ and $\\infty$, we must clip to maintain our values within the 0-255 range.   "
   ]
  },
  {
   "cell_type": "code",
   "execution_count": null,
   "metadata": {
    "colab": {},
    "colab_type": "code",
    "deletable": false,
    "id": "mjzlKRQRs_y2",
    "nbgrader": {
     "cell_type": "code",
     "checksum": "f5cd0bc3a34234db0602f04678d34557",
     "grade": false,
     "grade_id": "deprocess_img",
     "locked": false,
     "schema_version": 3,
     "solution": true,
     "task": false
    }
   },
   "outputs": [],
   "source": [
    "def deprocess_img(processed_img):\n",
    "    \"\"\"\n",
    "    Check if the processed_img dimension is 4 or 3, raise expection if less than 3\n",
    "    else reduce the dimension to 3 and perform inverse of preprocessing step\n",
    "    Remember that you need to add mean = [103.939, 116.779, 123.68] with channels BGR.\n",
    "    Also for any image the pixel value should be between 0-255.\n",
    "    \"\"\"\n",
    "    \n",
    "    x = processed_img.copy()\n",
    "    if len(x.shape) == 4:\n",
    "        x = np.squeeze(x, 0)\n",
    "    assert len(x.shape) == 3, (\"Input to deprocess image must be an image of \"\n",
    "                             \"dimension [1, height, width, channel] or [height, width, channel]\")\n",
    "    if len(x.shape) != 3:\n",
    "        raise ValueError(\"Invalid input to deprocessing image\")\n",
    "\n",
    "    # # TODO: Uncomment the lines below and replace <FILL IN> with appropriate code\n",
    "    # # add mean\n",
    "    # <FILL IN>\n",
    "    # # clip\n",
    "    # x = <FILL IN>\n",
    "    \n",
    "    # YOUR CODE HERE\n",
    "    raise NotImplementedError()\n",
    "    \n",
    "    return x\n"
   ]
  },
  {
   "cell_type": "code",
   "execution_count": null,
   "metadata": {
    "colab": {},
    "colab_type": "code",
    "deletable": false,
    "editable": false,
    "id": "hNeylsVSw3lp",
    "nbgrader": {
     "cell_type": "code",
     "checksum": "1135384ad64b4ee51e3bdfdddf60f81f",
     "grade": true,
     "grade_id": "test_deprocess_img",
     "locked": true,
     "points": 2,
     "schema_version": 3,
     "solution": false,
     "task": false
    }
   },
   "outputs": [],
   "source": [
    "# Test deprocess_img\n",
    "content_img_test = load_and_process_img(content_path)\n",
    "d = deprocess_img(content_img_test)\n",
    "mean_d = np.mean(d)\n",
    "\n",
    "assert 200 > mean_d > 50"
   ]
  },
  {
   "cell_type": "markdown",
   "metadata": {
    "colab_type": "text",
    "id": "Jt3i3RRrJiOX"
   },
   "source": [
    "# Build the Model \n",
    "We will load [VGG19](https://keras.io/applications/#vgg19), and feed in our input tensor to the model to extract the feature maps of the content, style, and generated images.\n"
   ]
  },
  {
   "cell_type": "markdown",
   "metadata": {
    "colab_type": "text",
    "id": "GEwZ7FlwrjoZ"
   },
   "source": [
    "### Extract content and style representations from VGG\n",
    "For content layers we will use `conv2`  of `block5`.\n",
    "\n",
    "For style layers we will use `conv1` of each block. For example, `lock1_conv1`.\n"
   ]
  },
  {
   "cell_type": "code",
   "execution_count": null,
   "metadata": {
    "colab": {},
    "colab_type": "code",
    "id": "Zqvy86wHlMe2"
   },
   "outputs": [],
   "source": [
    "import ssl\n",
    "ssl._create_default_https_context = ssl._create_unverified_context\n",
    "\n",
    "vgg = tf.keras.applications.vgg19.VGG19(include_top=False, weights='imagenet')\n",
    "vgg.summary()"
   ]
  },
  {
   "cell_type": "code",
   "execution_count": null,
   "metadata": {
    "colab": {},
    "colab_type": "code",
    "deletable": false,
    "id": "N4-8eUp_Kc-j",
    "nbgrader": {
     "cell_type": "code",
     "checksum": "2f7c7f0c27a985ab309ab91ad70fecb8",
     "grade": false,
     "grade_id": "content_layer",
     "locked": false,
     "schema_version": 3,
     "solution": true,
     "task": false
    }
   },
   "outputs": [],
   "source": [
    "'''\n",
    "Define 4 variables:\n",
    "`content_layers` and `style_layers`: lists containing the names of the blocks to be used\n",
    "`num_content_layers` and `num_style_layers`: provide the length of the lists \n",
    "'''\n",
    "\n",
    "# # TODO: Uncomment the lines below and replace <FILL IN> with appropriate code\n",
    "\n",
    "# content_layers = <FILL IN>\n",
    "# \n",
    "# # Style layers we are interested in\n",
    "# style_layers = <FILL IN>\n",
    "# num_content_layers = <FILL IN>\n",
    "# num_style_layers = <FILL IN>\n",
    "\n",
    "# YOUR CODE HERE\n",
    "raise NotImplementedError()"
   ]
  },
  {
   "cell_type": "code",
   "execution_count": null,
   "metadata": {
    "colab": {},
    "colab_type": "code",
    "deletable": false,
    "editable": false,
    "id": "S57jnuaRiUY-",
    "nbgrader": {
     "cell_type": "code",
     "checksum": "5556ed7c43372a2b55ac68e89c5215cf",
     "grade": true,
     "grade_id": "test_content_layer",
     "locked": true,
     "points": 2,
     "schema_version": 3,
     "solution": false,
     "task": false
    }
   },
   "outputs": [],
   "source": [
    "#Test the content_layers \n",
    "assert style_layers[1]=='block2_conv1'\n",
    "assert num_content_layers==1\n",
    "assert num_style_layers==5"
   ]
  },
  {
   "cell_type": "markdown",
   "metadata": {
    "colab_type": "text",
    "id": "v9AnzEUU6hhx"
   },
   "source": [
    "In order to access the intermediate layers corresponding to our style and content feature maps, we will get the corresponding outputs and use the Keras [**Functional API**](https://keras.io/getting-started/functional-api-guide/). We then define our model with the desired output activations. \n"
   ]
  },
  {
   "cell_type": "code",
   "execution_count": null,
   "metadata": {
    "colab": {},
    "colab_type": "code",
    "deletable": false,
    "id": "nfec6MuMAbPx",
    "nbgrader": {
     "cell_type": "code",
     "checksum": "cd09caf14cbacc04effce59c3feba17b",
     "grade": false,
     "grade_id": "model_vgg",
     "locked": false,
     "schema_version": 3,
     "solution": true,
     "task": false
    }
   },
   "outputs": [],
   "source": [
    "def model_VGG():\n",
    "    \"\"\" \n",
    "    Creates our model with access to intermediate layers. \n",
    "  \n",
    "    This function will load the VGG19 model and access the intermediate layers. \n",
    "    These layers will then be used to create a new model that will take input image\n",
    "    and return the representations from these intermediate layers via VGG. \n",
    "  \n",
    "    Returns:\n",
    "        returns a keras model that takes image inputs and outputs the style and \n",
    "        content intermediate layers. \n",
    "    \"\"\"\n",
    "    \n",
    "    # Load a pretrained VGG on Imagenet\n",
    "    vgg = tf.keras.applications.vgg19.VGG19(include_top=False, weights='imagenet')\n",
    "    vgg.trainable = False\n",
    "    \n",
    "    # Get output layers corresponding to style and content layers \n",
    "    style_outputs = [vgg.get_layer(name).output for name in style_layers]\n",
    "    \n",
    "    # # TODO: Uncomment the lines below and replace <FILL IN> with appropriate code\n",
    "    # content_outputs = <FILL IN>\n",
    "    # model_outputs = style_outputs + content_outputs\n",
    "    \n",
    "    # YOUR CODE HERE\n",
    "    raise NotImplementedError()\n",
    "\n",
    "    return models.Model(vgg.input, model_outputs)\n"
   ]
  },
  {
   "cell_type": "markdown",
   "metadata": {
    "colab_type": "text",
    "id": "vJdYvJTZ4bdS"
   },
   "source": [
    "## Define the Loss function (content loss + style loss)"
   ]
  },
  {
   "cell_type": "markdown",
   "metadata": {
    "colab_type": "text",
    "id": "F2Hcepii7_qh"
   },
   "source": [
    "### Content Loss"
   ]
  },
  {
   "cell_type": "markdown",
   "metadata": {
    "colab_type": "text",
    "id": "1FvH-gwXi4nq"
   },
   "source": [
    "Content loss \n",
    "\n",
    " $$L^l_{content}(p, x) = \\sum_{i, j} (F^l_{ij}(x) - P^l_{ij}(p))^2$$\n",
    "\n",
    "where F is the feature representation of the generated image and P is the feature representation\n",
    "of the content image layer l. The paper suggests that we use the feature map from the layer\n",
    "'conv4_2'\n",
    "\n"
   ]
  },
  {
   "cell_type": "code",
   "execution_count": null,
   "metadata": {
    "colab": {},
    "colab_type": "code",
    "deletable": false,
    "id": "d2mf7JwRMkCd",
    "nbgrader": {
     "cell_type": "code",
     "checksum": "ca0e327abce8542292e56d2b721cbab5",
     "grade": false,
     "grade_id": "content_loss",
     "locked": false,
     "schema_version": 3,
     "solution": true,
     "task": false
    }
   },
   "outputs": [],
   "source": [
    "def compute_content_loss(base_content, target):\n",
    "    # return the content loss (see equation above)\n",
    "    # hint: you can use tf.reduce_mean\n",
    "    \n",
    "    # YOUR CODE HERE\n",
    "    raise NotImplementedError()"
   ]
  },
  {
   "cell_type": "code",
   "execution_count": null,
   "metadata": {
    "colab": {},
    "colab_type": "code",
    "deletable": false,
    "editable": false,
    "id": "UBJ626Js0_jH",
    "nbgrader": {
     "cell_type": "code",
     "checksum": "2cf07cd22dd225d9d063e039143c70f5",
     "grade": true,
     "grade_id": "test_content_loss",
     "locked": true,
     "points": 2,
     "schema_version": 3,
     "solution": false,
     "task": false
    }
   },
   "outputs": [],
   "source": [
    "# Test the Content Loss Function\n",
    "content_img=load_and_process_img(content_path)\n",
    "compute_content_loss(d,content_img).numpy()\n",
    "\n",
    "assert 30000>compute_content_loss(d,content_img).numpy()>1000"
   ]
  },
  {
   "cell_type": "markdown",
   "metadata": {
    "colab_type": "text",
    "id": "lGUfttK9F8d5"
   },
   "source": [
    "### Style Loss"
   ]
  },
  {
   "cell_type": "markdown",
   "metadata": {
    "colab_type": "text",
    "id": "I6XtkGK_YGD1"
   },
   "source": [
    "Style loss of the base input image, $x$, and the style image, $a$, as the distance between the style representation (the gram matrices) of these images. We describe the style representation of an image as the correlation between different filter responses given by the Gram matrix  $G^l$, where $G^l_{ij}$ is the inner product between the vectorized feature map $i$ and $j$ in layer $l$. We can see that $G^l_{ij}$ generated over the feature map for a given image represents the correlation between feature maps $i$ and $j$. \n",
    "\n",
    "\n",
    "\n",
    "$$E_l =  \\sum_{i,j}(G^l_{ij} - A^l_{ij})^2$$\n",
    "\n",
    "where $G^l_{ij}$ and $A^l_{ij}$ are the respective style representation in layer $l$ of $x$ and $a$. $N_l$ describes the number of feature maps, each of size $M_l = height * width$. Thus, the total style loss across each layer is \n",
    "$$L_{style}(a, x) = \\sum_{l \\in L} w_l E_l$$\n",
    "where we weight the contribution of each layer's loss by giving more emphasis to\n",
    "deep layers. For example, w for ‘conv1_1’ can be 1, then weight for ‘conv2_2’ can be 2, and so on."
   ]
  },
  {
   "cell_type": "markdown",
   "metadata": {
    "colab_type": "text",
    "id": "F21Hm61yLKk5"
   },
   "source": [
    "### Computing the style loss\n",
    "We will first implement a distance metric that will be used when calculating the style loss in `compute_style_loss()` below. "
   ]
  },
  {
   "cell_type": "code",
   "execution_count": null,
   "metadata": {
    "colab": {},
    "colab_type": "code",
    "deletable": false,
    "id": "3jKdxnr82X9b",
    "nbgrader": {
     "cell_type": "code",
     "checksum": "32c3172cdc5fb1c35b369bb6bb84a062",
     "grade": false,
     "grade_id": "gram_matrix",
     "locked": false,
     "schema_version": 3,
     "solution": true,
     "task": false
    }
   },
   "outputs": [],
   "source": [
    "def gram_matrix(input_tensor):\n",
    "    \"\"\" \n",
    "    Create and return the gram matrix for `input_tensor`\n",
    "    Hint: you'll first have to find the channels then \n",
    "    reshape the input_tensor, compute gram_matrix and\n",
    "    divide it by shape of input_tensor\n",
    "    \"\"\"\n",
    "\n",
    "    channels = int(input_tensor.shape[-1])\n",
    "    \n",
    "    # # TODO: Uncomment the lines below and replace <FILL IN> with appropriate code\n",
    "    # a = tf.reshape(<FILL IN>)\n",
    "    # gram = <FILL IN>\n",
    "    # n = <FILL IN>\n",
    "    \n",
    "    # YOUR CODE HERE\n",
    "    raise NotImplementedError()\n",
    "     \n",
    "    return gram / tf.cast(n, tf.float32)\n",
    " "
   ]
  },
  {
   "cell_type": "code",
   "execution_count": null,
   "metadata": {
    "colab": {},
    "colab_type": "code",
    "deletable": false,
    "editable": false,
    "id": "KkSH_gS361OE",
    "nbgrader": {
     "cell_type": "code",
     "checksum": "a380b44dbfd0c8633493d2106582717b",
     "grade": true,
     "grade_id": "test_gram_matrix",
     "locked": true,
     "points": 2,
     "schema_version": 3,
     "solution": false,
     "task": false
    }
   },
   "outputs": [],
   "source": [
    "# Test Gram Matrix\n",
    "sample_tensor_x=tf.constant([[1.,2.,4,2],[1.,2.,4,44.],[2.,2,2.,2],[12.,4.,1,8]])\n",
    "np_gram=np.mean(gram_matrix(sample_tensor_x).numpy())\n",
    "\n",
    "assert 200>np_gram>40"
   ]
  },
  {
   "cell_type": "code",
   "execution_count": null,
   "metadata": {
    "colab": {},
    "colab_type": "code",
    "deletable": false,
    "id": "N7MOqwKLLke8",
    "nbgrader": {
     "cell_type": "code",
     "checksum": "9ea260a445b56e6f39b23a04bb8c1e65",
     "grade": false,
     "grade_id": "style_loss",
     "locked": false,
     "schema_version": 3,
     "solution": true,
     "task": false
    }
   },
   "outputs": [],
   "source": [
    "def compute_style_loss(base_style, gram_target):\n",
    "    \"\"\"\n",
    "    Expects two images of dimension h, w, c: height, width, num filters of each layer\n",
    "    Return: style loss (G-A)**2 \n",
    "    \"\"\"\n",
    "    \n",
    "    height, width, channels = base_style.get_shape().as_list()\n",
    "    \n",
    "    # # TODO: Uncomment the lines below and replace <FILL IN> with appropriate code\n",
    "    # gram_style = <FILL IN>\n",
    "    \n",
    "    # YOUR CODE HERE\n",
    "    raise NotImplementedError()\n",
    "    \n",
    "    return tf.reduce_mean(tf.square(gram_style - gram_target)) "
   ]
  },
  {
   "cell_type": "code",
   "execution_count": null,
   "metadata": {
    "colab": {},
    "colab_type": "code",
    "deletable": false,
    "editable": false,
    "id": "6YPo1uETftfT",
    "nbgrader": {
     "cell_type": "code",
     "checksum": "50637eae5f94bdcf72339b3c40f1fdf8",
     "grade": true,
     "grade_id": "test_style_loss",
     "locked": true,
     "points": 2,
     "schema_version": 3,
     "solution": false,
     "task": false
    }
   },
   "outputs": [],
   "source": [
    "# Test style Loss\n",
    "sample_tensor_y=tf.constant([[[1.,2.,4],[1.,2.,4],[2.,2,2],[12.,4.,1]],[[1.,2.,4],[1.,2.,4],[2.,2,2.],[12.,4.,1]],[[1.,2.,4],[1.,2.,4],[2.,2,2.],[12.,4.,1]],[[1.,2.,4],[1.,2.,4],[2.,2,2.],[12.,4.,1]]])\n",
    "sample_tensor_z=tf.constant([[1.,2.,4],[1.,2.,4],[2.,2,2]])\n",
    "test_style_output=compute_style_loss(sample_tensor_y, sample_tensor_z).numpy()\n",
    "assert 210>test_style_output>150"
   ]
  },
  {
   "cell_type": "markdown",
   "metadata": {
    "colab_type": "text",
    "id": "pXIUX6czZABh"
   },
   "source": [
    "## Apply style transfer to our images\n"
   ]
  },
  {
   "cell_type": "code",
   "execution_count": null,
   "metadata": {
    "colab": {},
    "colab_type": "code",
    "deletable": false,
    "id": "O-lj5LxgtmnI",
    "nbgrader": {
     "cell_type": "code",
     "checksum": "12884200628e0bd4df181796499be000",
     "grade": false,
     "grade_id": "compute_features",
     "locked": false,
     "schema_version": 3,
     "solution": true,
     "task": false
    }
   },
   "outputs": [],
   "source": [
    "def compute_features(model, content_path, style_path):\n",
    "    \"\"\"\n",
    "    This function would help to compute the content and style features\n",
    "  \n",
    "    Arguments:\n",
    "        model: The model that we are using.\n",
    "        content_path: The path to the content image.\n",
    "        style_path: The path to the style image\n",
    "    \n",
    "    Returns:\n",
    "        returns the style features and the content features. \n",
    "    \"\"\"\n",
    "    \n",
    "    # Load our images in \n",
    "    content_image = load_and_process_img(content_path)\n",
    "    style_image = load_and_process_img(style_path)\n",
    "    \n",
    "    # # TODO: Uncomment the lines below and replace <FILL IN> with appropriate code\n",
    "    \n",
    "    # # batch compute content and style features\n",
    "    # style_outputs = model(style_image)\n",
    "    # content_outputs = <FILL IN>\n",
    "    # # Get the style and content feature representations from our model  \n",
    "    # style_features = [style_layer[0] for style_layer in style_outputs[:num_style_layers]]\n",
    "    # content_features = <FILL IN>\n",
    "  \n",
    "    \n",
    "    # YOUR CODE HERE\n",
    "    raise NotImplementedError()\n",
    "\n",
    "    return style_features, content_features\n"
   ]
  },
  {
   "cell_type": "code",
   "execution_count": null,
   "metadata": {
    "colab": {},
    "colab_type": "code",
    "deletable": false,
    "editable": false,
    "id": "wL-VsRvCmw9v",
    "nbgrader": {
     "cell_type": "code",
     "checksum": "b5b5054f3b4cfd3a3c1bc083df03265f",
     "grade": true,
     "grade_id": "test_compute_features",
     "locked": true,
     "points": 4,
     "schema_version": 3,
     "solution": false,
     "task": false
    }
   },
   "outputs": [],
   "source": [
    "# Test compute_features\n",
    "test_style_features, test_content_features = compute_features(model_VGG() , content_path, style_path)\n",
    "test_style_len=len(test_style_features)\n",
    "test_content_len=len(test_content_features)\n",
    "test_style_mean=np.mean(test_style_features[0].numpy())\n",
    "test_content_mean=np.mean(test_content_features[0].numpy())\n",
    "assert test_style_len>=5\n",
    "assert test_content_len>=1\n",
    "assert 30>test_style_mean> 20\n",
    "assert 25>test_content_mean>15"
   ]
  },
  {
   "cell_type": "markdown",
   "metadata": {
    "colab_type": "text",
    "id": "3DopXw7-lFHa"
   },
   "source": [
    "### Computing the loss and gradients\n"
   ]
  },
  {
   "cell_type": "code",
   "execution_count": null,
   "metadata": {
    "colab": {},
    "colab_type": "code",
    "deletable": false,
    "id": "oVDhSo8iJunf",
    "nbgrader": {
     "cell_type": "code",
     "checksum": "8a6d92b0c776b695312090732ab2f8c4",
     "grade": false,
     "grade_id": "calculate_loss",
     "locked": false,
     "schema_version": 3,
     "solution": true,
     "task": false
    }
   },
   "outputs": [],
   "source": [
    "def calculate_loss(model, loss_weights, init_image, gram_style_features, content_features):\n",
    "    \"\"\"\n",
    "    This function will compute the total loss.\n",
    "  \n",
    "    Arguments:\n",
    "        model: The model that will give us access to the intermediate layers\n",
    "        loss_weights: The weights of each contribution of each loss function. \n",
    "                  (style weight, content weight)\n",
    "        init_image: the base image\n",
    "        gram_style_features: Precomputed gram matrices corresponding to the \n",
    "                        defined style layers\n",
    "        content_features: Precomputed outputs from defined content layers  \n",
    "      \n",
    "    Returns:\n",
    "        total_loss, style_loss, content_loss\n",
    "    \"\"\"\n",
    "\n",
    "    style_weight, content_weight = loss_weights\n",
    "    \n",
    "    # Feed our init image through our model. This will give us the content and \n",
    "    # style representations at our desired layers. Since we're using eager\n",
    "    # our model is callable just like any other function!\n",
    "    model_outputs = model(init_image)\n",
    "  \n",
    "    # # TODO: Uncomment the lines below and replace <FILL IN> with appropriate code\n",
    "    # style_output_features = <FILL IN>\n",
    "    # content_output_features = <FILL IN>\n",
    "\n",
    "    # YOUR CODE HERE\n",
    "    raise NotImplementedError()\n",
    "  \n",
    "    style_loss = 0\n",
    "    content_loss = 0\n",
    "\n",
    "    # Accumulate style losses from all layers\n",
    "    weight_per_style_layer = [1.0,2.0,3.0,4.0,5.0]\n",
    "    for target_style, comb_style, wg_layer in zip(gram_style_features, style_output_features,weight_per_style_layer):\n",
    "        # # TODO: Uncomment the lines below and replace <FILL IN> with appropriate code\n",
    "        # style_loss += <FILL IN>\n",
    "        \n",
    "        # YOUR CODE HERE\n",
    "        raise NotImplementedError()\n",
    "        \n",
    "    # Accumulate content losses from all layers     \n",
    "    weight_per_content_layer = 1.0 / float(num_content_layers)\n",
    "    for target_content, comb_content in zip(content_features, content_output_features):\n",
    "        # # TODO: Uncomment the lines below and replace <FILL IN> with appropriate code\n",
    "        # content_loss += <FILL IN>\n",
    "        \n",
    "        # YOUR CODE HERE\n",
    "        raise NotImplementedError()\n",
    "  \n",
    "    style_loss *= style_weight\n",
    "    content_loss *= content_weight\n",
    "    \n",
    "    \n",
    "    loss = style_loss + content_loss \n",
    "    return loss, style_loss, content_loss"
   ]
  },
  {
   "cell_type": "code",
   "execution_count": null,
   "metadata": {
    "colab": {},
    "colab_type": "code",
    "deletable": false,
    "editable": false,
    "id": "ktX7ozQivVLn",
    "nbgrader": {
     "cell_type": "code",
     "checksum": "1c51437c3dbcca8f2be5b351b4c6e4b1",
     "grade": true,
     "grade_id": "test_calculate_loss",
     "locked": true,
     "points": 4,
     "schema_version": 3,
     "solution": false,
     "task": false
    }
   },
   "outputs": [],
   "source": [
    "# Test calculate_loss\n",
    "init_image = tf.convert_to_tensor(load_and_process_img(content_path))\n",
    "loss_weights=(1000, 0.001)\n",
    "gram_style_features = [gram_matrix(style_feature) for style_feature in test_style_features]\n",
    "test_loss, test_style_loss, test_content_loss = calculate_loss(model_VGG(),\n",
    "                                                             loss_weights,\n",
    "                                                             init_image,\n",
    "                                                             gram_style_features,\n",
    "                                                             test_content_features)\n",
    "assert 1e16 > test_loss>1e3\n",
    "assert 1e16 > test_style_loss>1e3\n",
    "assert test_content_loss>=0"
   ]
  },
  {
   "cell_type": "markdown",
   "metadata": {
    "colab_type": "text",
    "id": "T9yKu2PLlBIE"
   },
   "source": [
    "# Training Loop"
   ]
  },
  {
   "cell_type": "markdown",
   "metadata": {
    "colab_type": "text",
    "id": "TDQXM_5yAH4B"
   },
   "source": [
    "Now we will execute the training loop. Here we use [**tf.GradientTape**](https://www.tensorflow.org/programmers_guide/eager#computing_gradients) to compute the gradient. "
   ]
  },
  {
   "cell_type": "code",
   "execution_count": null,
   "metadata": {
    "colab": {},
    "colab_type": "code",
    "deletable": false,
    "id": "pj_enNo6tACQ",
    "nbgrader": {
     "cell_type": "code",
     "checksum": "e07ea86ce5c36e56f5ad9ddb64a10561",
     "grade": false,
     "grade_id": "run_style_transfer",
     "locked": false,
     "schema_version": 3,
     "solution": true,
     "task": false
    }
   },
   "outputs": [],
   "source": [
    "import IPython.display\n",
    "def run_style_transfer(content_path, style_path, num_iterations): \n",
    "    '''\n",
    "    Arguments:\n",
    "      content_path, style_path, num_iterations\n",
    "      \n",
    "     Major steps:\n",
    "      1. Load the VGG model and set layers trainable to False.\n",
    "        Since we don't need to  train any layers of our model, \n",
    "        so we set trainable to false\n",
    "      2. Get style and content features from compute_features\n",
    "      3. Compute the gram_matrix for each style feature\n",
    "      4. set initial image which would get trained to feature the content image \n",
    "      5. Define the optimizer. While you can play with learning_rate, beta, epsilon \n",
    "        Hint: use Adam with learning_rate=5,\n",
    "                            beta_1==0.99, \n",
    "                            epsilon=1e-1\n",
    "      6. Define loss weights style_weight, content_weight\n",
    "      7. Define num_iterations \n",
    "      8. Compute_grad using  tf.GradientTape() to compute gradient\n",
    "     \n",
    "    Return:\n",
    "        best_img, best_loss ,imgs\n",
    "        \n",
    "    Note that best_img will be used to autograde based on \n",
    "    similarity of best_img with our provided styled_ref\n",
    "    '''\n",
    "\n",
    "    model = model_VGG() \n",
    "    for layer in model.layers:\n",
    "        layer.trainable = False\n",
    "    \n",
    "    # Get the style and content feature representations (from our specified intermediate layers) \n",
    "    style_features, content_features = compute_features(model, content_path, style_path)\n",
    "    gram_style_features = [gram_matrix(style_feature) for style_feature in style_features]\n",
    "  \n",
    "    # Set initial image\n",
    "    init_image = load_and_process_img(content_path)\n",
    "    init_image = tf.Variable(init_image, dtype=tf.float32)\n",
    "    \n",
    "    # # TODO: Uncomment the lines below and replace <FILL IN> with appropriate code\n",
    "    # # Create our optimizer\n",
    "    # opt = tf.optimizers.<FILL IN>\n",
    "    \n",
    "    # YOUR CODE HERE\n",
    "    raise NotImplementedError()\n",
    "\n",
    "    # For displaying intermediate images \n",
    "    iter_count = 1\n",
    "  \n",
    "    # Store our best result\n",
    "    best_loss, best_img = float('inf'), None\n",
    "  \n",
    "    # Create a nice config \n",
    "    content_weight=1e3\n",
    "    style_weight=1e-2\n",
    "    loss_weights = (style_weight, content_weight)\n",
    "    cfg = {\n",
    "      'model': model,\n",
    "      'loss_weights': loss_weights,\n",
    "      'init_image': init_image,\n",
    "      'gram_style_features': gram_style_features,\n",
    "      'content_features': content_features\n",
    "    }\n",
    "    \n",
    "    # For displaying\n",
    "    num_rows = 2\n",
    "    num_cols = 5\n",
    "    display_interval = num_iterations/(num_rows*num_cols)\n",
    "    start_time = time.time()\n",
    "    global_start = time.time()\n",
    "  \n",
    "    norm_means = np.array([103.939, 116.779, 123.68])\n",
    "    min_vals = -norm_means\n",
    "    max_vals = 255 - norm_means   \n",
    "  \n",
    "    imgs = []\n",
    "\n",
    "    def compute_grads(cfg):\n",
    "        with tf.GradientTape() as tape: \n",
    "            all_loss = calculate_loss(**cfg)\n",
    "        # Compute gradients wrt input image\n",
    "        total_loss = all_loss[0]\n",
    "        return tape.gradient(total_loss, cfg['init_image']), all_loss\n",
    "\n",
    "    for i in range(num_iterations):\n",
    "        \n",
    "        # # TODO: Uncomment the lines below and replace <FILL IN> with appropriate code\n",
    "        # grads, all_loss = compute_grads(cfg)\n",
    "        # loss, style_score, content_score = <FILL IN>\n",
    "        # opt.<FILL IN>\n",
    "        # clipped = <FILL IN>\n",
    "        \n",
    "        # YOUR CODE HERE\n",
    "        raise NotImplementedError()\n",
    "        \n",
    "        init_image.assign(clipped)\n",
    "        end_time = time.time() \n",
    "    \n",
    "        if loss < best_loss:\n",
    "          # Update best loss and best image from total loss. \n",
    "            best_loss = loss\n",
    "            best_img = deprocess_img(init_image.numpy())\n",
    "\n",
    "        if i % display_interval== 0:\n",
    "          # Use the .numpy() method to get the concrete numpy array\n",
    "            plot_img = init_image.numpy()\n",
    "            plot_img = deprocess_img(plot_img)\n",
    "            imgs.append(plot_img)\n",
    "      \n",
    "            print('Iteration: {}'.format(i))        \n",
    "            print('Total loss: {:.4e}, ' \n",
    "                'style loss: {:.4e}, '\n",
    "                'content loss: {:.4e}, '\n",
    "                'time: {:.4f}s'.format(loss, style_score, content_score, time.time() - start_time))\n",
    "            start_time = time.time()\n",
    "        print('Total time: {:.4f}s'.format(time.time() - global_start))\n",
    "\n",
    "\n",
    "    return best_img, best_loss ,imgs"
   ]
  },
  {
   "cell_type": "code",
   "execution_count": null,
   "metadata": {
    "colab": {},
    "colab_type": "code",
    "id": "vSVMx4burydi"
   },
   "outputs": [],
   "source": [
    "best, best_loss ,imgs = run_style_transfer(content_path,style_path, num_iterations=100)"
   ]
  },
  {
   "cell_type": "code",
   "execution_count": null,
   "metadata": {
    "colab": {},
    "colab_type": "code",
    "id": "dzJTObpsO3TZ"
   },
   "outputs": [],
   "source": [
    "# select the best image which can pass the similarity test with the provided sample styled image\n",
    "best=imgs[9]\n",
    "Image.fromarray(best)"
   ]
  },
  {
   "cell_type": "code",
   "execution_count": null,
   "metadata": {
    "colab": {},
    "colab_type": "code",
    "id": "5GCIbNxuIjri"
   },
   "outputs": [],
   "source": [
    "best.shape #Just note the shape of output image (345, 512, 3)"
   ]
  },
  {
   "cell_type": "markdown",
   "metadata": {
    "colab_type": "text",
    "id": "9JMbRmuOI6SP"
   },
   "source": [
    "Since there can be variety of stylized outputs we have given a wide margin for testing the output. "
   ]
  },
  {
   "cell_type": "code",
   "execution_count": null,
   "metadata": {
    "colab": {},
    "colab_type": "code",
    "deletable": false,
    "editable": false,
    "id": "BlvuDQCFCbhF",
    "nbgrader": {
     "cell_type": "code",
     "checksum": "6546041bbc1911b9e691d4a973c16366",
     "grade": true,
     "grade_id": "test_run_style_transfer",
     "locked": true,
     "points": 14,
     "schema_version": 3,
     "solution": false,
     "task": false
    }
   },
   "outputs": [],
   "source": [
    "#Test stylized images\n",
    "\n",
    "def mse(imageA, imageB):\n",
    "\terr = np.sum((imageA.astype(\"float\") - imageB.astype(\"float\")) ** 2)\n",
    "\terr /= float(imageA.shape[0] * imageA.shape[1])\n",
    "\treturn err\n",
    "\n",
    "a=np.array(Image.open(styled_ref))\n",
    "mse_style_output= mse(a,best)\n",
    "\n",
    "assert mse_style_output<15000\n"
   ]
  },
  {
   "cell_type": "markdown",
   "metadata": {
    "colab_type": "text",
    "id": "LwiZfCW0AZwt"
   },
   "source": [
    "# Visualize outputs\n",
    "We \"deprocess\" the output image in order to remove the processing that was applied to it. "
   ]
  },
  {
   "cell_type": "code",
   "execution_count": null,
   "metadata": {
    "colab": {},
    "colab_type": "code",
    "id": "lqTQN1PjulV9"
   },
   "outputs": [],
   "source": [
    "def show_results(best_img, content_path, style_path, show_large_final=True):\n",
    "    plt.figure(figsize=(10, 5))\n",
    "    content = resize_img(content_path) \n",
    "    style = resize_img(style_path)\n",
    "\n",
    "    plt.subplot(1, 2, 1)\n",
    "    imshow(content, 'Content Image')\n",
    "\n",
    "    plt.subplot(1, 2, 2)\n",
    "    imshow(style, 'Style Image')\n",
    "\n",
    "    if show_large_final: \n",
    "        plt.figure(figsize=(10, 10))\n",
    "\n",
    "        plt.imshow(best_img)\n",
    "        plt.title('Output Image')\n",
    "        plt.show()"
   ]
  },
  {
   "cell_type": "code",
   "execution_count": null,
   "metadata": {
    "colab": {},
    "colab_type": "code",
    "id": "i6d6O50Yvs6a"
   },
   "outputs": [],
   "source": [
    "show_results(best, content_path, style_path)"
   ]
  }
 ],
 "metadata": {
  "accelerator": "GPU",
  "colab": {
   "collapsed_sections": [],
   "name": "Style_transfer_MLLD_Final",
   "private_outputs": true,
   "provenance": [],
   "toc_visible": true
  },
  "kernelspec": {
   "display_name": "Python 3",
   "language": "python",
   "name": "python3"
  },
  "language_info": {
   "codemirror_mode": {
    "name": "ipython",
    "version": 3
   },
   "file_extension": ".py",
   "mimetype": "text/x-python",
   "name": "python",
   "nbconvert_exporter": "python",
   "pygments_lexer": "ipython3",
   "version": "3.7.6"
  }
 },
 "nbformat": 4,
 "nbformat_minor": 1
}
